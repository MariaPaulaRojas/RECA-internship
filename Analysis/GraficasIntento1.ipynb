{
 "cells": [
  {
   "cell_type": "code",
   "execution_count": 1,
   "id": "3ca3b603",
   "metadata": {},
   "outputs": [
    {
     "name": "stdout",
     "output_type": "stream",
     "text": [
      "Requirement already satisfied: astropy in ./anaconda3/lib/python3.8/site-packages (4.2.1)\n",
      "Requirement already satisfied: pyerfa in ./anaconda3/lib/python3.8/site-packages (from astropy) (1.7.3)\n",
      "Requirement already satisfied: numpy>=1.17 in ./anaconda3/lib/python3.8/site-packages (from astropy) (1.20.1)\n",
      "Note: you may need to restart the kernel to use updated packages.\n"
     ]
    }
   ],
   "source": [
    "pip install astropy"
   ]
  },
  {
   "cell_type": "code",
   "execution_count": 2,
   "id": "50c5b5f3",
   "metadata": {},
   "outputs": [],
   "source": [
    "from astropy.table import Table"
   ]
  },
  {
   "cell_type": "code",
   "execution_count": 3,
   "id": "8ba4e788",
   "metadata": {},
   "outputs": [
    {
     "ename": "FileNotFoundError",
     "evalue": "[Errno 2] No such file or directory: 'Query.csv'",
     "output_type": "error",
     "traceback": [
      "\u001b[0;31m---------------------------------------------------------------------------\u001b[0m",
      "\u001b[0;31mFileNotFoundError\u001b[0m                         Traceback (most recent call last)",
      "\u001b[0;32m<ipython-input-3-eca7e7ed7144>\u001b[0m in \u001b[0;36m<module>\u001b[0;34m\u001b[0m\n\u001b[0;32m----> 1\u001b[0;31m \u001b[0mTable\u001b[0m\u001b[0;34m.\u001b[0m\u001b[0mread\u001b[0m\u001b[0;34m(\u001b[0m\u001b[0;34m\"Query.csv\"\u001b[0m\u001b[0;34m)\u001b[0m\u001b[0;34m\u001b[0m\u001b[0;34m\u001b[0m\u001b[0m\n\u001b[0m",
      "\u001b[0;32m~/anaconda3/lib/python3.8/site-packages/astropy/table/connect.py\u001b[0m in \u001b[0;36m__call__\u001b[0;34m(self, *args, **kwargs)\u001b[0m\n\u001b[1;32m     59\u001b[0m         \u001b[0mdescriptions\u001b[0m \u001b[0;34m=\u001b[0m \u001b[0mkwargs\u001b[0m\u001b[0;34m.\u001b[0m\u001b[0mpop\u001b[0m\u001b[0;34m(\u001b[0m\u001b[0;34m'descriptions'\u001b[0m\u001b[0;34m,\u001b[0m \u001b[0;32mNone\u001b[0m\u001b[0;34m)\u001b[0m\u001b[0;34m\u001b[0m\u001b[0;34m\u001b[0m\u001b[0m\n\u001b[1;32m     60\u001b[0m \u001b[0;34m\u001b[0m\u001b[0m\n\u001b[0;32m---> 61\u001b[0;31m         \u001b[0mout\u001b[0m \u001b[0;34m=\u001b[0m \u001b[0mregistry\u001b[0m\u001b[0;34m.\u001b[0m\u001b[0mread\u001b[0m\u001b[0;34m(\u001b[0m\u001b[0mcls\u001b[0m\u001b[0;34m,\u001b[0m \u001b[0;34m*\u001b[0m\u001b[0margs\u001b[0m\u001b[0;34m,\u001b[0m \u001b[0;34m**\u001b[0m\u001b[0mkwargs\u001b[0m\u001b[0;34m)\u001b[0m\u001b[0;34m\u001b[0m\u001b[0;34m\u001b[0m\u001b[0m\n\u001b[0m\u001b[1;32m     62\u001b[0m \u001b[0;34m\u001b[0m\u001b[0m\n\u001b[1;32m     63\u001b[0m         \u001b[0;31m# For some readers (e.g., ascii.ecsv), the returned `out` class is not\u001b[0m\u001b[0;34m\u001b[0m\u001b[0;34m\u001b[0m\u001b[0;34m\u001b[0m\u001b[0m\n",
      "\u001b[0;32m~/anaconda3/lib/python3.8/site-packages/astropy/io/registry.py\u001b[0m in \u001b[0;36mread\u001b[0;34m(cls, format, cache, *args, **kwargs)\u001b[0m\n\u001b[1;32m    503\u001b[0m                     \u001b[0;32mtry\u001b[0m\u001b[0;34m:\u001b[0m\u001b[0;34m\u001b[0m\u001b[0;34m\u001b[0m\u001b[0m\n\u001b[1;32m    504\u001b[0m                         \u001b[0mctx\u001b[0m \u001b[0;34m=\u001b[0m \u001b[0mget_readable_fileobj\u001b[0m\u001b[0;34m(\u001b[0m\u001b[0margs\u001b[0m\u001b[0;34m[\u001b[0m\u001b[0;36m0\u001b[0m\u001b[0;34m]\u001b[0m\u001b[0;34m,\u001b[0m \u001b[0mencoding\u001b[0m\u001b[0;34m=\u001b[0m\u001b[0;34m'binary'\u001b[0m\u001b[0;34m,\u001b[0m \u001b[0mcache\u001b[0m\u001b[0;34m=\u001b[0m\u001b[0mcache\u001b[0m\u001b[0;34m)\u001b[0m\u001b[0;34m\u001b[0m\u001b[0;34m\u001b[0m\u001b[0m\n\u001b[0;32m--> 505\u001b[0;31m                         \u001b[0mfileobj\u001b[0m \u001b[0;34m=\u001b[0m \u001b[0mctx\u001b[0m\u001b[0;34m.\u001b[0m\u001b[0m__enter__\u001b[0m\u001b[0;34m(\u001b[0m\u001b[0;34m)\u001b[0m\u001b[0;34m\u001b[0m\u001b[0;34m\u001b[0m\u001b[0m\n\u001b[0m\u001b[1;32m    506\u001b[0m                     \u001b[0;32mexcept\u001b[0m \u001b[0mOSError\u001b[0m\u001b[0;34m:\u001b[0m\u001b[0;34m\u001b[0m\u001b[0;34m\u001b[0m\u001b[0m\n\u001b[1;32m    507\u001b[0m                         \u001b[0;32mraise\u001b[0m\u001b[0;34m\u001b[0m\u001b[0;34m\u001b[0m\u001b[0m\n",
      "\u001b[0;32m~/anaconda3/lib/python3.8/contextlib.py\u001b[0m in \u001b[0;36m__enter__\u001b[0;34m(self)\u001b[0m\n\u001b[1;32m    111\u001b[0m         \u001b[0;32mdel\u001b[0m \u001b[0mself\u001b[0m\u001b[0;34m.\u001b[0m\u001b[0margs\u001b[0m\u001b[0;34m,\u001b[0m \u001b[0mself\u001b[0m\u001b[0;34m.\u001b[0m\u001b[0mkwds\u001b[0m\u001b[0;34m,\u001b[0m \u001b[0mself\u001b[0m\u001b[0;34m.\u001b[0m\u001b[0mfunc\u001b[0m\u001b[0;34m\u001b[0m\u001b[0;34m\u001b[0m\u001b[0m\n\u001b[1;32m    112\u001b[0m         \u001b[0;32mtry\u001b[0m\u001b[0;34m:\u001b[0m\u001b[0;34m\u001b[0m\u001b[0;34m\u001b[0m\u001b[0m\n\u001b[0;32m--> 113\u001b[0;31m             \u001b[0;32mreturn\u001b[0m \u001b[0mnext\u001b[0m\u001b[0;34m(\u001b[0m\u001b[0mself\u001b[0m\u001b[0;34m.\u001b[0m\u001b[0mgen\u001b[0m\u001b[0;34m)\u001b[0m\u001b[0;34m\u001b[0m\u001b[0;34m\u001b[0m\u001b[0m\n\u001b[0m\u001b[1;32m    114\u001b[0m         \u001b[0;32mexcept\u001b[0m \u001b[0mStopIteration\u001b[0m\u001b[0;34m:\u001b[0m\u001b[0;34m\u001b[0m\u001b[0;34m\u001b[0m\u001b[0m\n\u001b[1;32m    115\u001b[0m             \u001b[0;32mraise\u001b[0m \u001b[0mRuntimeError\u001b[0m\u001b[0;34m(\u001b[0m\u001b[0;34m\"generator didn't yield\"\u001b[0m\u001b[0;34m)\u001b[0m \u001b[0;32mfrom\u001b[0m \u001b[0;32mNone\u001b[0m\u001b[0;34m\u001b[0m\u001b[0;34m\u001b[0m\u001b[0m\n",
      "\u001b[0;32m~/anaconda3/lib/python3.8/site-packages/astropy/utils/data.py\u001b[0m in \u001b[0;36mget_readable_fileobj\u001b[0;34m(name_or_obj, encoding, cache, show_progress, remote_timeout, sources, http_headers)\u001b[0m\n\u001b[1;32m    250\u001b[0m                 \u001b[0mtimeout\u001b[0m\u001b[0;34m=\u001b[0m\u001b[0mremote_timeout\u001b[0m\u001b[0;34m,\u001b[0m \u001b[0msources\u001b[0m\u001b[0;34m=\u001b[0m\u001b[0msources\u001b[0m\u001b[0;34m,\u001b[0m\u001b[0;34m\u001b[0m\u001b[0;34m\u001b[0m\u001b[0m\n\u001b[1;32m    251\u001b[0m                 http_headers=http_headers)\n\u001b[0;32m--> 252\u001b[0;31m         \u001b[0mfileobj\u001b[0m \u001b[0;34m=\u001b[0m \u001b[0mio\u001b[0m\u001b[0;34m.\u001b[0m\u001b[0mFileIO\u001b[0m\u001b[0;34m(\u001b[0m\u001b[0mname_or_obj\u001b[0m\u001b[0;34m,\u001b[0m \u001b[0;34m'r'\u001b[0m\u001b[0;34m)\u001b[0m\u001b[0;34m\u001b[0m\u001b[0;34m\u001b[0m\u001b[0m\n\u001b[0m\u001b[1;32m    253\u001b[0m         \u001b[0;32mif\u001b[0m \u001b[0mis_url\u001b[0m \u001b[0;32mand\u001b[0m \u001b[0;32mnot\u001b[0m \u001b[0mcache\u001b[0m\u001b[0;34m:\u001b[0m\u001b[0;34m\u001b[0m\u001b[0;34m\u001b[0m\u001b[0m\n\u001b[1;32m    254\u001b[0m             \u001b[0mdelete_fds\u001b[0m\u001b[0;34m.\u001b[0m\u001b[0mappend\u001b[0m\u001b[0;34m(\u001b[0m\u001b[0mfileobj\u001b[0m\u001b[0;34m)\u001b[0m\u001b[0;34m\u001b[0m\u001b[0;34m\u001b[0m\u001b[0m\n",
      "\u001b[0;31mFileNotFoundError\u001b[0m: [Errno 2] No such file or directory: 'Query.csv'"
     ]
    }
   ],
   "source": [
    "Table.read(\"Query.csv\")"
   ]
  },
  {
   "cell_type": "code",
   "execution_count": 4,
   "id": "da84f3af",
   "metadata": {},
   "outputs": [],
   "source": [
    "import os"
   ]
  },
  {
   "cell_type": "code",
   "execution_count": 5,
   "id": "3ce42b6a",
   "metadata": {},
   "outputs": [
    {
     "data": {
      "text/plain": [
       "'/home/paula'"
      ]
     },
     "execution_count": 5,
     "metadata": {},
     "output_type": "execute_result"
    }
   ],
   "source": [
    "os.getcwd()"
   ]
  },
  {
   "cell_type": "code",
   "execution_count": 6,
   "id": "fc8c90bc",
   "metadata": {},
   "outputs": [
    {
     "data": {
      "text/plain": [
       "['Untitled1.ipynb',\n",
       " '.bash_logout',\n",
       " 'Escritorio',\n",
       " '.zoom',\n",
       " 'Plantillas',\n",
       " '.ipython',\n",
       " '.ipynb_checkpoints',\n",
       " '.mozilla',\n",
       " '.bashrc',\n",
       " 'Público',\n",
       " '.ssh',\n",
       " 'Descargas',\n",
       " '.bash_history',\n",
       " '.continuum',\n",
       " 'Imágenes',\n",
       " '.jupyter',\n",
       " 'anaconda3',\n",
       " '.local',\n",
       " '.anaconda',\n",
       " '.thunderbird',\n",
       " '.config',\n",
       " '.cache',\n",
       " 'Vídeos',\n",
       " 'Untitled.ipynb',\n",
       " '.nv',\n",
       " '.conda',\n",
       " '2021-06-08 10-32-30.mkv',\n",
       " '.condarc',\n",
       " '2021-06-04 23-56-19.mkv',\n",
       " 'Música',\n",
       " 'snap',\n",
       " '.sudo_as_admin_successful',\n",
       " '2021-06-10 10-45-57.mkv',\n",
       " 'Documentos',\n",
       " 'Downloads',\n",
       " '.pki',\n",
       " '.profile',\n",
       " '.gnupg',\n",
       " '.python_history',\n",
       " '.astropy']"
      ]
     },
     "execution_count": 6,
     "metadata": {},
     "output_type": "execute_result"
    }
   ],
   "source": [
    "os.listdir(\".\")"
   ]
  },
  {
   "cell_type": "code",
   "execution_count": 7,
   "id": "c596b97a",
   "metadata": {},
   "outputs": [],
   "source": [
    "os.chdir(r'/home/paula/Documentos/RECA')"
   ]
  },
  {
   "cell_type": "code",
   "execution_count": 8,
   "id": "7bd25e96",
   "metadata": {},
   "outputs": [
    {
     "data": {
      "text/plain": [
       "'/home/paula/Documentos/RECA'"
      ]
     },
     "execution_count": 8,
     "metadata": {},
     "output_type": "execute_result"
    }
   ],
   "source": [
    "os.getcwd()"
   ]
  },
  {
   "cell_type": "code",
   "execution_count": 9,
   "id": "ae1caad8",
   "metadata": {},
   "outputs": [
    {
     "ename": "InconsistentTableError",
     "evalue": "Number of header columns (1) inconsistent with data columns in data line 1",
     "output_type": "error",
     "traceback": [
      "\u001b[0;31m---------------------------------------------------------------------------\u001b[0m",
      "\u001b[0;31mInconsistentTableError\u001b[0m                    Traceback (most recent call last)",
      "\u001b[0;32m<ipython-input-9-86148e6a811e>\u001b[0m in \u001b[0;36m<module>\u001b[0;34m\u001b[0m\n\u001b[0;32m----> 1\u001b[0;31m \u001b[0mTable\u001b[0m\u001b[0;34m.\u001b[0m\u001b[0mread\u001b[0m\u001b[0;34m(\u001b[0m\u001b[0;34m'Query.csv'\u001b[0m\u001b[0;34m)\u001b[0m\u001b[0;34m\u001b[0m\u001b[0;34m\u001b[0m\u001b[0m\n\u001b[0m",
      "\u001b[0;32m~/anaconda3/lib/python3.8/site-packages/astropy/table/connect.py\u001b[0m in \u001b[0;36m__call__\u001b[0;34m(self, *args, **kwargs)\u001b[0m\n\u001b[1;32m     59\u001b[0m         \u001b[0mdescriptions\u001b[0m \u001b[0;34m=\u001b[0m \u001b[0mkwargs\u001b[0m\u001b[0;34m.\u001b[0m\u001b[0mpop\u001b[0m\u001b[0;34m(\u001b[0m\u001b[0;34m'descriptions'\u001b[0m\u001b[0;34m,\u001b[0m \u001b[0;32mNone\u001b[0m\u001b[0;34m)\u001b[0m\u001b[0;34m\u001b[0m\u001b[0;34m\u001b[0m\u001b[0m\n\u001b[1;32m     60\u001b[0m \u001b[0;34m\u001b[0m\u001b[0m\n\u001b[0;32m---> 61\u001b[0;31m         \u001b[0mout\u001b[0m \u001b[0;34m=\u001b[0m \u001b[0mregistry\u001b[0m\u001b[0;34m.\u001b[0m\u001b[0mread\u001b[0m\u001b[0;34m(\u001b[0m\u001b[0mcls\u001b[0m\u001b[0;34m,\u001b[0m \u001b[0;34m*\u001b[0m\u001b[0margs\u001b[0m\u001b[0;34m,\u001b[0m \u001b[0;34m**\u001b[0m\u001b[0mkwargs\u001b[0m\u001b[0;34m)\u001b[0m\u001b[0;34m\u001b[0m\u001b[0;34m\u001b[0m\u001b[0m\n\u001b[0m\u001b[1;32m     62\u001b[0m \u001b[0;34m\u001b[0m\u001b[0m\n\u001b[1;32m     63\u001b[0m         \u001b[0;31m# For some readers (e.g., ascii.ecsv), the returned `out` class is not\u001b[0m\u001b[0;34m\u001b[0m\u001b[0;34m\u001b[0m\u001b[0;34m\u001b[0m\u001b[0m\n",
      "\u001b[0;32m~/anaconda3/lib/python3.8/site-packages/astropy/io/registry.py\u001b[0m in \u001b[0;36mread\u001b[0;34m(cls, format, cache, *args, **kwargs)\u001b[0m\n\u001b[1;32m    518\u001b[0m \u001b[0;34m\u001b[0m\u001b[0m\n\u001b[1;32m    519\u001b[0m         \u001b[0mreader\u001b[0m \u001b[0;34m=\u001b[0m \u001b[0mget_reader\u001b[0m\u001b[0;34m(\u001b[0m\u001b[0mformat\u001b[0m\u001b[0;34m,\u001b[0m \u001b[0mcls\u001b[0m\u001b[0;34m)\u001b[0m\u001b[0;34m\u001b[0m\u001b[0;34m\u001b[0m\u001b[0m\n\u001b[0;32m--> 520\u001b[0;31m         \u001b[0mdata\u001b[0m \u001b[0;34m=\u001b[0m \u001b[0mreader\u001b[0m\u001b[0;34m(\u001b[0m\u001b[0;34m*\u001b[0m\u001b[0margs\u001b[0m\u001b[0;34m,\u001b[0m \u001b[0;34m**\u001b[0m\u001b[0mkwargs\u001b[0m\u001b[0;34m)\u001b[0m\u001b[0;34m\u001b[0m\u001b[0;34m\u001b[0m\u001b[0m\n\u001b[0m\u001b[1;32m    521\u001b[0m \u001b[0;34m\u001b[0m\u001b[0m\n\u001b[1;32m    522\u001b[0m         \u001b[0;32mif\u001b[0m \u001b[0;32mnot\u001b[0m \u001b[0misinstance\u001b[0m\u001b[0;34m(\u001b[0m\u001b[0mdata\u001b[0m\u001b[0;34m,\u001b[0m \u001b[0mcls\u001b[0m\u001b[0;34m)\u001b[0m\u001b[0;34m:\u001b[0m\u001b[0;34m\u001b[0m\u001b[0;34m\u001b[0m\u001b[0m\n",
      "\u001b[0;32m~/anaconda3/lib/python3.8/site-packages/astropy/io/ascii/connect.py\u001b[0m in \u001b[0;36mio_read\u001b[0;34m(format, filename, **kwargs)\u001b[0m\n\u001b[1;32m     16\u001b[0m         \u001b[0mformat\u001b[0m \u001b[0;34m=\u001b[0m \u001b[0mre\u001b[0m\u001b[0;34m.\u001b[0m\u001b[0msub\u001b[0m\u001b[0;34m(\u001b[0m\u001b[0;34mr'^ascii\\.'\u001b[0m\u001b[0;34m,\u001b[0m \u001b[0;34m''\u001b[0m\u001b[0;34m,\u001b[0m \u001b[0mformat\u001b[0m\u001b[0;34m)\u001b[0m\u001b[0;34m\u001b[0m\u001b[0;34m\u001b[0m\u001b[0m\n\u001b[1;32m     17\u001b[0m         \u001b[0mkwargs\u001b[0m\u001b[0;34m[\u001b[0m\u001b[0;34m'format'\u001b[0m\u001b[0;34m]\u001b[0m \u001b[0;34m=\u001b[0m \u001b[0mformat\u001b[0m\u001b[0;34m\u001b[0m\u001b[0;34m\u001b[0m\u001b[0m\n\u001b[0;32m---> 18\u001b[0;31m     \u001b[0;32mreturn\u001b[0m \u001b[0mread\u001b[0m\u001b[0;34m(\u001b[0m\u001b[0mfilename\u001b[0m\u001b[0;34m,\u001b[0m \u001b[0;34m**\u001b[0m\u001b[0mkwargs\u001b[0m\u001b[0;34m)\u001b[0m\u001b[0;34m\u001b[0m\u001b[0;34m\u001b[0m\u001b[0m\n\u001b[0m\u001b[1;32m     19\u001b[0m \u001b[0;34m\u001b[0m\u001b[0m\n\u001b[1;32m     20\u001b[0m \u001b[0;34m\u001b[0m\u001b[0m\n",
      "\u001b[0;32m~/anaconda3/lib/python3.8/site-packages/astropy/io/ascii/ui.py\u001b[0m in \u001b[0;36mread\u001b[0;34m(table, guess, **kwargs)\u001b[0m\n\u001b[1;32m    355\u001b[0m             \u001b[0mfast_reader_rdr\u001b[0m \u001b[0;34m=\u001b[0m \u001b[0mget_reader\u001b[0m\u001b[0;34m(\u001b[0m\u001b[0;34m**\u001b[0m\u001b[0mfast_kwargs\u001b[0m\u001b[0;34m)\u001b[0m\u001b[0;34m\u001b[0m\u001b[0;34m\u001b[0m\u001b[0m\n\u001b[1;32m    356\u001b[0m             \u001b[0;32mtry\u001b[0m\u001b[0;34m:\u001b[0m\u001b[0;34m\u001b[0m\u001b[0;34m\u001b[0m\u001b[0m\n\u001b[0;32m--> 357\u001b[0;31m                 \u001b[0mdat\u001b[0m \u001b[0;34m=\u001b[0m \u001b[0mfast_reader_rdr\u001b[0m\u001b[0;34m.\u001b[0m\u001b[0mread\u001b[0m\u001b[0;34m(\u001b[0m\u001b[0mtable\u001b[0m\u001b[0;34m)\u001b[0m\u001b[0;34m\u001b[0m\u001b[0;34m\u001b[0m\u001b[0m\n\u001b[0m\u001b[1;32m    358\u001b[0m                 _read_trace.append({'kwargs': copy.deepcopy(fast_kwargs),\n\u001b[1;32m    359\u001b[0m                                     \u001b[0;34m'Reader'\u001b[0m\u001b[0;34m:\u001b[0m \u001b[0mfast_reader_rdr\u001b[0m\u001b[0;34m.\u001b[0m\u001b[0m__class__\u001b[0m\u001b[0;34m,\u001b[0m\u001b[0;34m\u001b[0m\u001b[0;34m\u001b[0m\u001b[0m\n",
      "\u001b[0;32m~/anaconda3/lib/python3.8/site-packages/astropy/io/ascii/fastbasic.py\u001b[0m in \u001b[0;36mread\u001b[0;34m(self, table)\u001b[0m\n\u001b[1;32m    126\u001b[0m \u001b[0;34m\u001b[0m\u001b[0m\n\u001b[1;32m    127\u001b[0m         \u001b[0;32mwith\u001b[0m \u001b[0m_set_locale\u001b[0m\u001b[0;34m(\u001b[0m\u001b[0;34m'C'\u001b[0m\u001b[0;34m)\u001b[0m\u001b[0;34m:\u001b[0m\u001b[0;34m\u001b[0m\u001b[0;34m\u001b[0m\u001b[0m\n\u001b[0;32m--> 128\u001b[0;31m             \u001b[0mdata\u001b[0m\u001b[0;34m,\u001b[0m \u001b[0mcomments\u001b[0m \u001b[0;34m=\u001b[0m \u001b[0mself\u001b[0m\u001b[0;34m.\u001b[0m\u001b[0mengine\u001b[0m\u001b[0;34m.\u001b[0m\u001b[0mread\u001b[0m\u001b[0;34m(\u001b[0m\u001b[0mtry_int\u001b[0m\u001b[0;34m,\u001b[0m \u001b[0mtry_float\u001b[0m\u001b[0;34m,\u001b[0m \u001b[0mtry_string\u001b[0m\u001b[0;34m)\u001b[0m\u001b[0;34m\u001b[0m\u001b[0;34m\u001b[0m\u001b[0m\n\u001b[0m\u001b[1;32m    129\u001b[0m         \u001b[0mout\u001b[0m \u001b[0;34m=\u001b[0m \u001b[0mself\u001b[0m\u001b[0;34m.\u001b[0m\u001b[0mmake_table\u001b[0m\u001b[0;34m(\u001b[0m\u001b[0mdata\u001b[0m\u001b[0;34m,\u001b[0m \u001b[0mcomments\u001b[0m\u001b[0;34m)\u001b[0m\u001b[0;34m\u001b[0m\u001b[0;34m\u001b[0m\u001b[0m\n\u001b[1;32m    130\u001b[0m \u001b[0;34m\u001b[0m\u001b[0m\n",
      "\u001b[0;32mastropy/io/ascii/cparser.pyx\u001b[0m in \u001b[0;36mastropy.io.ascii.cparser.CParser.read\u001b[0;34m()\u001b[0m\n",
      "\u001b[0;31mInconsistentTableError\u001b[0m: Number of header columns (1) inconsistent with data columns in data line 1"
     ]
    }
   ],
   "source": [
    "Table.read('Query.csv')"
   ]
  },
  {
   "cell_type": "code",
   "execution_count": 10,
   "id": "63398773",
   "metadata": {},
   "outputs": [
    {
     "data": {
      "text/html": [
       "<i>Table length=15715</i>\n",
       "<table id=\"table140374816053376\" class=\"table-striped table-bordered table-condensed\">\n",
       "<thead><tr><th>GalaxyID</th><th>DMEllipticity</th><th>DiscToTotal</th><th>DispAnisotropy</th><th>Ellipticity</th><th>KappaCoRot</th><th>MedOrbitCircu</th><th>RotToDispRatio</th><th>Triaxiality</th><th>MasaANegro</th><th>AcrecionMasaANegro</th><th>Masa</th><th>MasaMateriaOscura</th><th>MasaGas</th></tr></thead>\n",
       "<thead><tr><th>int64</th><th>float64</th><th>float64</th><th>float64</th><th>float64</th><th>float64</th><th>float64</th><th>float64</th><th>float64</th><th>float64</th><th>float64</th><th>float64</th><th>float64</th><th>float64</th></tr></thead>\n",
       "<tr><td>17284</td><td>0.5579547731666417</td><td>0.1176686319755067</td><td>0.1119316780036711</td><td>0.6260837612130052</td><td>0.21279658799099183</td><td>0.06370957440173486</td><td>0.14238503899065288</td><td>0.8118206269854453</td><td>147593.4</td><td>4.5341966e-13</td><td>23704242200.0</td><td>22413735900.0</td><td>1235475070.0</td></tr>\n",
       "<tr><td>17952</td><td>0.2690294208269425</td><td>0.19751232128443708</td><td>0.4094075771031225</td><td>0.474131330452617</td><td>0.2924431373698756</td><td>0.1303870577815779</td><td>0.23299242039977924</td><td>0.4737234308648693</td><td>147800.06</td><td>1.1599281e-11</td><td>53358641000.0</td><td>52499886000.0</td><td>39047940.0</td></tr>\n",
       "<tr><td>17953</td><td>0.27217835682279823</td><td>0.2654223398305864</td><td>0.4183497761069829</td><td>0.47914486672546075</td><td>0.31808492312355025</td><td>0.16217303674775985</td><td>0.32186996632407866</td><td>0.4721419973970764</td><td>147789.7</td><td>3.159194e-13</td><td>50462937000.0</td><td>49538048000.0</td><td>105382160.0</td></tr>\n",
       "<tr><td>17954</td><td>0.26038489783541485</td><td>0.2706124741404011</td><td>0.4939330594028626</td><td>0.5413131566306462</td><td>0.33178026031768393</td><td>0.16331172545304776</td><td>0.3278392251316286</td><td>0.40106691611887446</td><td>147786.47</td><td>1.3345487e-11</td><td>45822472000.0</td><td>44635992000.0</td><td>395291264.0</td></tr>\n",
       "<tr><td>17955</td><td>0.2909033508859771</td><td>0.2207957174863754</td><td>0.4956012663051127</td><td>0.557983365718655</td><td>0.32529346516137436</td><td>0.1446787593388799</td><td>0.2724167844721599</td><td>0.5359960988585495</td><td>147778.22</td><td>1.2929623e-11</td><td>74665443000.0</td><td>73106702000.0</td><td>817312380.0</td></tr>\n",
       "<tr><td>17956</td><td>0.32021747524136035</td><td>0.26071463356321345</td><td>0.4751624446721193</td><td>0.5773426798522661</td><td>0.32715141251702473</td><td>0.15863762740749535</td><td>0.30182853641212043</td><td>0.5643035133396257</td><td>147771.44</td><td>6.6701034e-13</td><td>85530452000.0</td><td>83614925000.0</td><td>1220842240.0</td></tr>\n",
       "<tr><td>17957</td><td>0.3390078404106587</td><td>0.1904180042684348</td><td>0.4465321734762753</td><td>0.5567674044626176</td><td>0.2866814811458333</td><td>0.1055614824805054</td><td>0.23161603288573024</td><td>0.5730199397198815</td><td>147768.61</td><td>2.383965e-11</td><td>87481426000.0</td><td>85019492000.0</td><td>1845265790.0</td></tr>\n",
       "<tr><td>17958</td><td>0.33482018868174634</td><td>0.14383489703313557</td><td>0.40134328835486455</td><td>0.5624291402548516</td><td>0.25347877303296174</td><td>0.07836656489458196</td><td>0.16373919122588376</td><td>0.7180750373529449</td><td>147762.4</td><td>1.4774401e-10</td><td>86216319000.0</td><td>83391930000.0</td><td>2253657340.0</td></tr>\n",
       "<tr><td>17959</td><td>0.32248793979841883</td><td>0.18788665960624584</td><td>0.41554430486774707</td><td>0.5518891104413809</td><td>0.27018852105560703</td><td>0.11818537797578146</td><td>0.22149166880907356</td><td>0.7067333506840466</td><td>147756.34</td><td>3.8598036e-09</td><td>85060436000.0</td><td>81883144000.0</td><td>2644382720.0</td></tr>\n",
       "<tr><td>17960</td><td>0.3362281334320496</td><td>0.09441177568190517</td><td>0.3475481438562539</td><td>0.5460522046652594</td><td>0.2186744189678534</td><td>0.054385102746685274</td><td>0.11039214120006721</td><td>0.760111627612458</td><td>147754.45</td><td>8.959957e-10</td><td>83391726000.0</td><td>80188940000.0</td><td>2721139200.0</td></tr>\n",
       "<tr><td>...</td><td>...</td><td>...</td><td>...</td><td>...</td><td>...</td><td>...</td><td>...</td><td>...</td><td>...</td><td>...</td><td>...</td><td>...</td><td>...</td></tr>\n",
       "<tr><td>489257</td><td>0.4539714579181695</td><td>0.2347517754856746</td><td>0.34065167198786694</td><td>0.5038686688402458</td><td>0.21976207479294121</td><td>0.1492399373463935</td><td>0.264919350312286</td><td>0.6999941745351929</td><td>147650.61</td><td>7.6035484e-08</td><td>25956591600.0</td><td>25482217500.0</td><td>420706368.0</td></tr>\n",
       "<tr><td>489258</td><td>0.4452076842124548</td><td>0.11507905234424842</td><td>0.19828772365392733</td><td>0.5094350247978603</td><td>0.16927336495328896</td><td>0.07666508361554958</td><td>0.09696417743562392</td><td>0.7755195034937231</td><td>147640.34</td><td>2.1653393e-11</td><td>24697653200.0</td><td>24231555100.0</td><td>415752192.0</td></tr>\n",
       "<tr><td>489259</td><td>0.4833519223722853</td><td>0.11618154435090366</td><td>0.15957954370581917</td><td>0.588970849794656</td><td>0.1712392410321399</td><td>0.05708923297225814</td><td>0.10366140593533968</td><td>0.761504004766882</td><td>147634.28</td><td>3.779261e-12</td><td>23745908700.0</td><td>23251144700.0</td><td>448800064.0</td></tr>\n",
       "<tr><td>490258</td><td>0.10133943321637073</td><td>0.061154586901734476</td><td>0.11362718572093655</td><td>0.17557036397153447</td><td>0.2072608316182403</td><td>0.029583702591388393</td><td>0.07870325542038381</td><td>0.22697280104767706</td><td>151145.02</td><td>1.4682383e-10</td><td>30950090800.0</td><td>30749050900.0</td><td>51587072.0</td></tr>\n",
       "<tr><td>490259</td><td>0.10794710292566478</td><td>0.20380835768349326</td><td>0.08897006571565669</td><td>0.12028746630143783</td><td>0.24371319490125834</td><td>0.11760628567926422</td><td>0.26684061337724546</td><td>0.8336503402055785</td><td>151144.6</td><td>1.6103215e-10</td><td>30600378400.0</td><td>30327318500.0</td><td>125680432.0</td></tr>\n",
       "<tr><td>490260</td><td>0.06912599013461973</td><td>0.23072667589742446</td><td>0.08872877261802281</td><td>0.23410272922388153</td><td>0.2779992077463831</td><td>0.13625934794677624</td><td>0.2616886082924576</td><td>0.1823840980883405</td><td>151142.52</td><td>1.409652e-12</td><td>30266509300.0</td><td>29938303000.0</td><td>187188240.0</td></tr>\n",
       "<tr><td>490261</td><td>0.07147989481710337</td><td>0.13466307335803762</td><td>0.1942359742571691</td><td>0.25902732682569884</td><td>0.26687702242750916</td><td>0.0758467913318121</td><td>0.17891549975996274</td><td>0.3492360567881433</td><td>151142.28</td><td>2.7960336e-12</td><td>29311459300.0</td><td>28938500100.0</td><td>236807104.0</td></tr>\n",
       "<tr><td>490262</td><td>0.123887003920369</td><td>0.1201568097103235</td><td>0.11137917234216743</td><td>0.2592598476339866</td><td>0.2491034402462488</td><td>0.07093018219619629</td><td>0.17288674118165165</td><td>0.13484902547445526</td><td>151141.56</td><td>5.0372678e-11</td><td>28631511000.0</td><td>28171378700.0</td><td>329325120.0</td></tr>\n",
       "<tr><td>490263</td><td>0.12567848441062224</td><td>0.11994021482098993</td><td>0.11235130224966816</td><td>0.13330493973020707</td><td>0.24324442967612114</td><td>0.07405736409830996</td><td>0.1652185536797431</td><td>0.4016227774667017</td><td>151139.8</td><td>3.870196e-11</td><td>27438319600.0</td><td>26854064100.0</td><td>462565120.0</td></tr>\n",
       "<tr><td>490264</td><td>0.12854250349708785</td><td>0.1053233353124875</td><td>0.20134731931644578</td><td>0.1665687832264997</td><td>0.23537021079929787</td><td>0.06631329459073802</td><td>0.1427635135512712</td><td>0.6385544577157537</td><td>151138.84</td><td>1.9130426e-10</td><td>26541187100.0</td><td>25846990800.0</td><td>580886660.0</td></tr>\n",
       "</table>"
      ],
      "text/plain": [
       "<Table length=15715>\n",
       "GalaxyID    DMEllipticity    ... MasaMateriaOscura   MasaGas   \n",
       " int64         float64       ...      float64        float64   \n",
       "-------- ------------------- ... ----------------- ------------\n",
       "   17284  0.5579547731666417 ...     22413735900.0 1235475070.0\n",
       "   17952  0.2690294208269425 ...     52499886000.0   39047940.0\n",
       "   17953 0.27217835682279823 ...     49538048000.0  105382160.0\n",
       "   17954 0.26038489783541485 ...     44635992000.0  395291264.0\n",
       "   17955  0.2909033508859771 ...     73106702000.0  817312380.0\n",
       "   17956 0.32021747524136035 ...     83614925000.0 1220842240.0\n",
       "   17957  0.3390078404106587 ...     85019492000.0 1845265790.0\n",
       "   17958 0.33482018868174634 ...     83391930000.0 2253657340.0\n",
       "   17959 0.32248793979841883 ...     81883144000.0 2644382720.0\n",
       "   17960  0.3362281334320496 ...     80188940000.0 2721139200.0\n",
       "     ...                 ... ...               ...          ...\n",
       "  489257  0.4539714579181695 ...     25482217500.0  420706368.0\n",
       "  489258  0.4452076842124548 ...     24231555100.0  415752192.0\n",
       "  489259  0.4833519223722853 ...     23251144700.0  448800064.0\n",
       "  490258 0.10133943321637073 ...     30749050900.0   51587072.0\n",
       "  490259 0.10794710292566478 ...     30327318500.0  125680432.0\n",
       "  490260 0.06912599013461973 ...     29938303000.0  187188240.0\n",
       "  490261 0.07147989481710337 ...     28938500100.0  236807104.0\n",
       "  490262   0.123887003920369 ...     28171378700.0  329325120.0\n",
       "  490263 0.12567848441062224 ...     26854064100.0  462565120.0\n",
       "  490264 0.12854250349708785 ...     25846990800.0  580886660.0"
      ]
     },
     "execution_count": 10,
     "metadata": {},
     "output_type": "execute_result"
    }
   ],
   "source": [
    "Table.read('Query.csv', format='ascii')"
   ]
  },
  {
   "cell_type": "code",
   "execution_count": 22,
   "id": "27e7a37a",
   "metadata": {},
   "outputs": [],
   "source": [
    "First_table=Table.read('Query.csv', format='ascii')"
   ]
  },
  {
   "cell_type": "code",
   "execution_count": 23,
   "id": "baff38ea",
   "metadata": {},
   "outputs": [
    {
     "data": {
      "text/plain": [
       "<TableColumns names=('GalaxyID','DMEllipticity','DiscToTotal','DispAnisotropy','Ellipticity','KappaCoRot','MedOrbitCircu','RotToDispRatio','Triaxiality','MasaANegro','AcrecionMasaANegro','Masa','MasaMateriaOscura','MasaGas')>"
      ]
     },
     "execution_count": 23,
     "metadata": {},
     "output_type": "execute_result"
    }
   ],
   "source": [
    "First_table.columns"
   ]
  },
  {
   "cell_type": "code",
   "execution_count": 5,
   "id": "97c59087",
   "metadata": {},
   "outputs": [
    {
     "ename": "NameError",
     "evalue": "name 'plt' is not defined",
     "output_type": "error",
     "traceback": [
      "\u001b[0;31m---------------------------------------------------------------------------\u001b[0m",
      "\u001b[0;31mNameError\u001b[0m                                 Traceback (most recent call last)",
      "\u001b[0;32m<ipython-input-5-2402a40c7d51>\u001b[0m in \u001b[0;36m<module>\u001b[0;34m\u001b[0m\n\u001b[0;32m----> 1\u001b[0;31m \u001b[0mfig\u001b[0m\u001b[0;34m,\u001b[0m \u001b[0max\u001b[0m \u001b[0;34m=\u001b[0m \u001b[0mplt\u001b[0m\u001b[0;34m.\u001b[0m\u001b[0msubplots\u001b[0m\u001b[0;34m(\u001b[0m\u001b[0;36m8\u001b[0m\u001b[0;34m,\u001b[0m\u001b[0;36m5\u001b[0m\u001b[0;34m,\u001b[0m\u001b[0mfigsize\u001b[0m\u001b[0;34m=\u001b[0m\u001b[0;34m(\u001b[0m\u001b[0;36m15\u001b[0m\u001b[0;34m,\u001b[0m \u001b[0;36m15\u001b[0m\u001b[0;34m)\u001b[0m\u001b[0;34m)\u001b[0m\u001b[0;34m\u001b[0m\u001b[0;34m\u001b[0m\u001b[0m\n\u001b[0m\u001b[1;32m      2\u001b[0m \u001b[0mfig\u001b[0m\u001b[0;34m.\u001b[0m\u001b[0mtight_layout\u001b[0m\u001b[0;34m(\u001b[0m\u001b[0mpad\u001b[0m\u001b[0;34m=\u001b[0m\u001b[0;36m2\u001b[0m\u001b[0;34m)\u001b[0m\u001b[0;34m\u001b[0m\u001b[0;34m\u001b[0m\u001b[0m\n\u001b[1;32m      3\u001b[0m \u001b[0max\u001b[0m\u001b[0;34m[\u001b[0m\u001b[0;36m0\u001b[0m\u001b[0;34m,\u001b[0m\u001b[0;36m0\u001b[0m\u001b[0;34m]\u001b[0m\u001b[0;34m.\u001b[0m\u001b[0mscatter\u001b[0m\u001b[0;34m(\u001b[0m\u001b[0mFirst_table\u001b[0m\u001b[0;34m[\u001b[0m\u001b[0;34m'DiscToTotal'\u001b[0m\u001b[0;34m]\u001b[0m\u001b[0;34m,\u001b[0m \u001b[0mFirst_table\u001b[0m\u001b[0;34m[\u001b[0m\u001b[0;34m'MasaANegro'\u001b[0m\u001b[0;34m]\u001b[0m\u001b[0;34m,\u001b[0m \u001b[0mcolor\u001b[0m \u001b[0;34m=\u001b[0m \u001b[0;34m'gray'\u001b[0m\u001b[0;34m)\u001b[0m\u001b[0;34m\u001b[0m\u001b[0;34m\u001b[0m\u001b[0m\n\u001b[1;32m      4\u001b[0m \u001b[0max\u001b[0m\u001b[0;34m[\u001b[0m\u001b[0;36m0\u001b[0m\u001b[0;34m,\u001b[0m\u001b[0;36m0\u001b[0m\u001b[0;34m]\u001b[0m\u001b[0;34m.\u001b[0m\u001b[0mset\u001b[0m\u001b[0;34m(\u001b[0m\u001b[0mxlabel\u001b[0m\u001b[0;34m=\u001b[0m\u001b[0;34m'DiscToTotal'\u001b[0m\u001b[0;34m,\u001b[0m \u001b[0mylabel\u001b[0m\u001b[0;34m=\u001b[0m\u001b[0;34m'MasaANegro'\u001b[0m\u001b[0;34m)\u001b[0m\u001b[0;34m\u001b[0m\u001b[0;34m\u001b[0m\u001b[0m\n\u001b[1;32m      5\u001b[0m \u001b[0max\u001b[0m\u001b[0;34m[\u001b[0m\u001b[0;36m0\u001b[0m\u001b[0;34m,\u001b[0m\u001b[0;36m1\u001b[0m\u001b[0;34m]\u001b[0m\u001b[0;34m.\u001b[0m\u001b[0mscatter\u001b[0m\u001b[0;34m(\u001b[0m\u001b[0mFirst_table\u001b[0m\u001b[0;34m[\u001b[0m\u001b[0;34m'DiscToTotal'\u001b[0m\u001b[0;34m]\u001b[0m\u001b[0;34m,\u001b[0m \u001b[0mFirst_table\u001b[0m\u001b[0;34m[\u001b[0m\u001b[0;34m'AcrecionMasaANegro'\u001b[0m\u001b[0;34m]\u001b[0m\u001b[0;34m,\u001b[0m \u001b[0mcolor\u001b[0m \u001b[0;34m=\u001b[0m \u001b[0;34m'gray'\u001b[0m\u001b[0;34m)\u001b[0m\u001b[0;34m\u001b[0m\u001b[0;34m\u001b[0m\u001b[0m\n",
      "\u001b[0;31mNameError\u001b[0m: name 'plt' is not defined"
     ]
    }
   ],
   "source": [
    "fig, ax = plt.subplots(8,5,figsize=(15, 15))\n",
    "fig.tight_layout(pad=2)\n",
    "ax[0,0].scatter(First_table['DiscToTotal'], First_table['MasaANegro'], color = 'gray')\n",
    "ax[0,0].set(xlabel='DiscToTotal', ylabel='MasaANegro')\n",
    "ax[0,1].scatter(First_table['DiscToTotal'], First_table['AcrecionMasaANegro'], color = 'gray')\n",
    "ax[0,1].set(xlabel='DiscToTotal', ylabel='AcrecionMasaANegro')\n",
    "ax[0,2].scatter(First_table['DiscToTotal'], First_table['Masa'], color = 'gray')\n",
    "ax[0,2].set(xlabel='DiscToTotal', ylabel='Masa')\n",
    "ax[0,3].scatter(First_table['DiscToTotal'], First_table['MasaMateriaOscura'], color = 'gray')\n",
    "ax[0,3].set(xlabel='DiscToTotal', ylabel='MasaMateriaOscura')\n",
    "ax[0,4].scatter(First_table['DiscToTotal'], First_table['MasaGas'], color = 'gray')\n",
    "ax[0,4].set(xlabel='DiscToTotal', ylabel='MasaGas')\n",
    "ax[1,0].scatter(First_table['DMEllipticity'], First_table['MasaANegro'])\n",
    "ax[1,0].set(xlabel='DMEllipticity', ylabel='MasaANegro')\n",
    "ax[1,1].scatter(First_table['DMEllipticity'], First_table['AcrecionMasaANegro'])\n",
    "ax[1,1].set(xlabel='DMEllipticity', ylabel='AcrecionMasaANegro')\n",
    "ax[1,2].scatter(First_table['DMEllipticity'], First_table['Masa'])\n",
    "ax[1,2].set(xlabel='DMEllipticity', ylabel='Masa')\n",
    "ax[1,3].scatter(First_table['DMEllipticity'], First_table['MasaMateriaOscura'])\n",
    "ax[1,3].set(xlabel='DMEllipticity', ylabel='MasaMateriaOscura')\n",
    "ax[1,4].scatter(First_table['DMEllipticity'], First_table['MasaGas'])\n",
    "ax[1,4].set(xlabel='DMEllipticity', ylabel='MasaGas')\n",
    "ax[2,0].scatter(First_table['DispAnisotropy'], First_table['MasaANegro'], color = 'blueviolet')\n",
    "ax[2,0].set(xlabel='DispAnisotropy', ylabel='MasaANegro')\n",
    "ax[2,1].scatter(First_table['DispAnisotropy'], First_table['AcrecionMasaANegro'], color = 'blueviolet')\n",
    "ax[2,1].set(xlabel='DispAnisotropy', ylabel='AcrecionMasaANegro')\n",
    "ax[2,2].scatter(First_table['DispAnisotropy'], First_table['Masa'], color = 'blueviolet')\n",
    "ax[2,2].set(xlabel='DispAnisotropy', ylabel='Masa')\n",
    "ax[2,3].scatter(First_table['DispAnisotropy'], First_table['MasaMateriaOscura'], color = 'blueviolet')\n",
    "ax[2,3].set(xlabel='DispAnisotropy', ylabel='MasaMateriaOscura')\n",
    "ax[2,4].scatter(First_table['DispAnisotropy'], First_table['MasaGas'], color = 'blueviolet')\n",
    "ax[2,4].set(xlabel='DispAnisotropy', ylabel='MasaGas')\n",
    "ax[3,0].scatter(First_table['Ellipticity'], First_table['MasaANegro'], color = 'tomato')\n",
    "ax[3,0].set(xlabel='Ellipticity', ylabel='MasaANegro')\n",
    "ax[3,1].scatter(First_table['Ellipticity'], First_table['AcrecionMasaANegro'], color = 'tomato')\n",
    "ax[3,1].set(xlabel='Ellipticity', ylabel='AcrecionMasaANegro')\n",
    "ax[3,2].scatter(First_table['Ellipticity'], First_table['Masa'], color = 'tomato')\n",
    "ax[3,2].set(xlabel='Ellipticity', ylabel='Masa')\n",
    "ax[3,3].scatter(First_table['Ellipticity'], First_table['MasaMateriaOscura'], color = 'tomato')\n",
    "ax[3,3].set(xlabel='Ellipticity', ylabel='MasaMateriaOscura')\n",
    "ax[3,4].scatter(First_table['Ellipticity'], First_table['MasaGas'], color = 'tomato')\n",
    "ax[3,4].set(xlabel='Ellipticity', ylabel='MasaGas')\n",
    "ax[4,0].scatter(First_table['KappaCoRot'], First_table['MasaANegro'], color = 'peru')\n",
    "ax[4,0].set(xlabel='KappaCoRot', ylabel='MasaANegro')\n",
    "ax[4,1].scatter(First_table['KappaCoRot'], First_table['AcrecionMasaANegro'], color = 'peru')\n",
    "ax[4,1].set(xlabel='KappaCoRot', ylabel='AcrecionMasaANegro')\n",
    "ax[4,2].scatter(First_table['KappaCoRot'], First_table['Masa'], color = 'peru')\n",
    "ax[4,2].set(xlabel='KappaCoRot', ylabel='Masa')\n",
    "ax[4,3].scatter(First_table['KappaCoRot'], First_table['MasaMateriaOscura'], color = 'peru')\n",
    "ax[4,3].set(xlabel='KappaCoRot', ylabel='MasaMateriaOscura')\n",
    "ax[4,4].scatter(First_table['KappaCoRot'], First_table['MasaGas'], color = 'peru')\n",
    "ax[4,4].set(xlabel='KappaCoRot', ylabel='MasaGas')\n",
    "ax[5,0].scatter(First_table['MedOrbitCircu'], First_table['MasaANegro'], color = 'limegreen')\n",
    "ax[5,0].set(xlabel='MedOrbitCircu', ylabel='MasaANegro')\n",
    "ax[5,1].scatter(First_table['MedOrbitCircu'], First_table['AcrecionMasaANegro'], color = 'limegreen')\n",
    "ax[5,1].set(xlabel='MedOrbitCircu', ylabel='AcrecionMasaANegro')\n",
    "ax[5,2].scatter(First_table['MedOrbitCircu'], First_table['Masa'], color = 'limegreen')\n",
    "ax[5,2].set(xlabel='MedOrbitCircu', ylabel='Masa')\n",
    "ax[5,3].scatter(First_table['MedOrbitCircu'], First_table['MasaMateriaOscura'], color = 'limegreen')\n",
    "ax[5,3].set(xlabel='MedOrbitCircu', ylabel='MasaMateriaOscura')\n",
    "ax[5,4].scatter(First_table['MedOrbitCircu'], First_table['MasaGas'], color = 'limegreen')\n",
    "ax[5,4].set(xlabel='MedOrbitCircu', ylabel='MasaGas')\n",
    "ax[6,0].scatter(First_table['RotToDispRatio'], First_table['MasaANegro'], color = 'crimson')\n",
    "ax[6,0].set(xlabel='RotToDispRatio', ylabel='MasaANegro')\n",
    "ax[6,1].scatter(First_table['RotToDispRatio'], First_table['AcrecionMasaANegro'], color = 'crimson')\n",
    "ax[6,1].set(xlabel='RotToDispRatio', ylabel='AcrecionMasaANegro')\n",
    "ax[6,2].scatter(First_table['RotToDispRatio'], First_table['Masa'], color = 'crimson')\n",
    "ax[6,2].set(xlabel='RotToDispRatio', ylabel='Masa')\n",
    "ax[6,3].scatter(First_table['RotToDispRatio'], First_table['MasaMateriaOscura'], color = 'crimson')\n",
    "ax[6,3].set(xlabel='RotToDispRatio', ylabel='MasaMateriaOscura')\n",
    "ax[6,4].scatter(First_table['RotToDispRatio'], First_table['MasaGas'], color = 'crimson')\n",
    "ax[6,4].set(xlabel='RotToDispRatio', ylabel='MasaGas')\n",
    "ax[7,0].scatter(First_table['Triaxiality'], First_table['MasaANegro'], color = 'seagreen')\n",
    "ax[7,0].set(xlabel='Triaxiality', ylabel='MasaANegro')\n",
    "ax[7,1].scatter(First_table['Triaxiality'], First_table['AcrecionMasaANegro'], color = 'seagreen')\n",
    "ax[7,1].set(xlabel='Triaxiality', ylabel='AcrecionMasaANegro')\n",
    "ax[7,2].scatter(First_table['Triaxiality'], First_table['Masa'], color = 'seagreen')\n",
    "ax[7,2].set(xlabel='Triaxiality', ylabel='Masa')\n",
    "ax[7,3].scatter(First_table['Triaxiality'], First_table['MasaMateriaOscura'], color = 'seagreen')\n",
    "ax[7,3].set(xlabel='Triaxiality', ylabel='MasaMateriaOscura')\n",
    "ax[7,4].scatter(First_table['Triaxiality'], First_table['MasaGas'], color = 'seagreen')\n",
    "ax[7,4].set(xlabel='Triaxiality', ylabel='MasaGas')\n",
    "\n"
   ]
  },
  {
   "cell_type": "code",
   "execution_count": 4,
   "id": "2fda3a95",
   "metadata": {},
   "outputs": [
    {
     "ename": "NameError",
     "evalue": "name 'fig' is not defined",
     "output_type": "error",
     "traceback": [
      "\u001b[0;31m---------------------------------------------------------------------------\u001b[0m",
      "\u001b[0;31mNameError\u001b[0m                                 Traceback (most recent call last)",
      "\u001b[0;32m<ipython-input-4-1df17ed99779>\u001b[0m in \u001b[0;36m<module>\u001b[0;34m\u001b[0m\n\u001b[0;32m----> 1\u001b[0;31m \u001b[0mfig\u001b[0m\u001b[0;34m.\u001b[0m\u001b[0msavefig\u001b[0m\u001b[0;34m(\u001b[0m\u001b[0;34m'FirstData.pdf'\u001b[0m\u001b[0;34m)\u001b[0m\u001b[0;34m\u001b[0m\u001b[0;34m\u001b[0m\u001b[0m\n\u001b[0m",
      "\u001b[0;31mNameError\u001b[0m: name 'fig' is not defined"
     ]
    }
   ],
   "source": [
    "fig.savefig('FirstData.pdf')"
   ]
  },
  {
   "cell_type": "code",
   "execution_count": 2,
   "id": "edab6859",
   "metadata": {},
   "outputs": [
    {
     "ename": "NameError",
     "evalue": "name 'fig' is not defined",
     "output_type": "error",
     "traceback": [
      "\u001b[0;31m---------------------------------------------------------------------------\u001b[0m",
      "\u001b[0;31mNameError\u001b[0m                                 Traceback (most recent call last)",
      "\u001b[0;32m<ipython-input-2-237eb73b8bbc>\u001b[0m in \u001b[0;36m<module>\u001b[0;34m\u001b[0m\n\u001b[0;32m----> 1\u001b[0;31m \u001b[0mfig\u001b[0m\u001b[0;34m.\u001b[0m\u001b[0msavefig\u001b[0m\u001b[0;34m(\u001b[0m\u001b[0;34m'FirstData.png'\u001b[0m\u001b[0;34m)\u001b[0m\u001b[0;34m\u001b[0m\u001b[0;34m\u001b[0m\u001b[0m\n\u001b[0m",
      "\u001b[0;31mNameError\u001b[0m: name 'fig' is not defined"
     ]
    }
   ],
   "source": [
    "fig.savefig('FirstData.png')"
   ]
  },
  {
   "cell_type": "code",
   "execution_count": null,
   "id": "2f8875b7",
   "metadata": {},
   "outputs": [],
   "source": []
  }
 ],
 "metadata": {
  "kernelspec": {
   "display_name": "Python 3",
   "language": "python",
   "name": "python3"
  },
  "language_info": {
   "codemirror_mode": {
    "name": "ipython",
    "version": 3
   },
   "file_extension": ".py",
   "mimetype": "text/x-python",
   "name": "python",
   "nbconvert_exporter": "python",
   "pygments_lexer": "ipython3",
   "version": "3.8.8"
  }
 },
 "nbformat": 4,
 "nbformat_minor": 5
}
